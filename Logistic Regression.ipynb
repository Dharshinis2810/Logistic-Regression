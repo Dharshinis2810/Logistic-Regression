{
 "cells": [
  {
   "cell_type": "markdown",
   "id": "f16d395f",
   "metadata": {},
   "source": [
    "# Logistic Regression On IRIS Dataset\n",
    "\n",
    "The Iris data set is a classification dataset that contains three classes of 50 instances each, where each class refers to a type of iris plant. The three classes in the Iris dataset are:\n",
    "\n",
    "1. Setosa\n",
    "2. Versicolor\n",
    "3. Virginica \n",
    "\n",
    "We are going to employ the services of the Logistic Regression Model on the Iris Dataset to predict the species of the flower. "
   ]
  },
  {
   "cell_type": "code",
   "execution_count": 29,
   "id": "b7ef8ccd",
   "metadata": {},
   "outputs": [],
   "source": [
    "import numpy as np\n",
    "import matplotlib.pyplot as plt\n",
    "import pandas as pd\n",
    "import seaborn as sns"
   ]
  },
  {
   "cell_type": "code",
   "execution_count": 30,
   "id": "7ea89229",
   "metadata": {},
   "outputs": [
    {
     "name": "stdout",
     "output_type": "stream",
     "text": [
      "<class 'pandas.core.frame.DataFrame'>\n",
      "RangeIndex: 150 entries, 0 to 149\n",
      "Data columns (total 5 columns):\n",
      " #   Column        Non-Null Count  Dtype  \n",
      "---  ------        --------------  -----  \n",
      " 0   sepal.length  150 non-null    float64\n",
      " 1   sepal.width   150 non-null    float64\n",
      " 2   petal.length  150 non-null    float64\n",
      " 3   petal.width   150 non-null    float64\n",
      " 4   variety       150 non-null    object \n",
      "dtypes: float64(4), object(1)\n",
      "memory usage: 5.3+ KB\n"
     ]
    }
   ],
   "source": [
    "#Import the IRIS dataset\n",
    "data = pd.read_csv('iris.csv')\n",
    "data.info()"
   ]
  },
  {
   "cell_type": "code",
   "execution_count": 31,
   "id": "92c2f44c",
   "metadata": {},
   "outputs": [],
   "source": [
    "#Split the dependent and independent variable\n",
    "x = data.iloc[:,[0,1,2,3]].values\n",
    "y = data.iloc[:,4].values"
   ]
  },
  {
   "cell_type": "code",
   "execution_count": 32,
   "id": "2d728096",
   "metadata": {},
   "outputs": [],
   "source": [
    "#Split the train and test data\n",
    "from sklearn.model_selection import train_test_split\n",
    "X_train,X_test,y_train,y_test = train_test_split(x,y,random_state=42,test_size=0.3)"
   ]
  },
  {
   "cell_type": "code",
   "execution_count": 33,
   "id": "07bc116d",
   "metadata": {},
   "outputs": [],
   "source": [
    "#Feature Scaling\n",
    "from sklearn.preprocessing import StandardScaler\n",
    "object = StandardScaler()\n",
    "X_train = object.fit_transform(X_train)\n",
    "X_test = object.transform(X_test)"
   ]
  },
  {
   "cell_type": "code",
   "execution_count": 34,
   "id": "2e34f328",
   "metadata": {},
   "outputs": [],
   "source": [
    "#Apply Logistic regression\n",
    "from sklearn.linear_model import LogisticRegression\n",
    "lr = LogisticRegression(random_state=42,solver='lbfgs',multi_class='auto')\n",
    "lr.fit(X_train,y_train)\n",
    "y_pre = lr.predict(X_test)\n",
    "y_prob = lr.predict_proba(X_test)\n",
    "y_prob = np.round(y_prob,2)"
   ]
  },
  {
   "cell_type": "code",
   "execution_count": 35,
   "id": "11fba929",
   "metadata": {},
   "outputs": [
    {
     "name": "stdout",
     "output_type": "stream",
     "text": [
      "y_test     | y_pred     | Setosa     | Versicolor    | Virginica \n",
      "-----------------------------------------------------------------\n",
      "Versicolor | Versicolor | 0.01       | 0.86          | 0.13      \n",
      "Setosa     | Setosa     | 0.97       | 0.03          | 0.0       \n",
      "Virginica  | Virginica  | 0.0        | 0.0           | 1.0       \n",
      "Versicolor | Versicolor | 0.01       | 0.74          | 0.25      \n",
      "Versicolor | Versicolor | 0.0        | 0.73          | 0.27      \n",
      "Setosa     | Setosa     | 0.94       | 0.06          | 0.0       \n",
      "Versicolor | Versicolor | 0.09       | 0.87          | 0.04      \n",
      "Virginica  | Virginica  | 0.0        | 0.06          | 0.94      \n",
      "Versicolor | Versicolor | 0.0        | 0.63          | 0.37      \n",
      "Versicolor | Versicolor | 0.03       | 0.92          | 0.05      \n",
      "Virginica  | Virginica  | 0.0        | 0.19          | 0.81      \n",
      "Setosa     | Setosa     | 0.95       | 0.05          | 0.0       \n",
      "Setosa     | Setosa     | 0.96       | 0.04          | 0.0       \n",
      "Setosa     | Setosa     | 0.95       | 0.05          | 0.0       \n",
      "Setosa     | Setosa     | 0.99       | 0.01          | 0.0       \n",
      "Versicolor | Versicolor | 0.02       | 0.66          | 0.31      \n",
      "Virginica  | Virginica  | 0.0        | 0.03          | 0.97      \n",
      "Versicolor | Versicolor | 0.03       | 0.93          | 0.04      \n",
      "Versicolor | Versicolor | 0.03       | 0.84          | 0.14      \n",
      "Virginica  | Virginica  | 0.0        | 0.04          | 0.96      \n",
      "Setosa     | Setosa     | 0.97       | 0.03          | 0.0       \n",
      "Virginica  | Virginica  | 0.0        | 0.36          | 0.64      \n",
      "Setosa     | Setosa     | 0.96       | 0.04          | 0.0       \n",
      "Virginica  | Virginica  | 0.0        | 0.05          | 0.95      \n",
      "Virginica  | Virginica  | 0.0        | 0.06          | 0.94      \n",
      "Virginica  | Virginica  | 0.0        | 0.05          | 0.95      \n",
      "Virginica  | Virginica  | 0.0        | 0.1           | 0.9       \n",
      "Virginica  | Virginica  | 0.0        | 0.02          | 0.98      \n",
      "Setosa     | Setosa     | 0.93       | 0.07          | 0.0       \n",
      "Setosa     | Setosa     | 0.95       | 0.05          | 0.0       \n",
      "Setosa     | Setosa     | 1.0        | 0.0           | 0.0       \n",
      "Setosa     | Setosa     | 1.0        | 0.0           | 0.0       \n",
      "Versicolor | Versicolor | 0.01       | 0.85          | 0.14      \n",
      "Setosa     | Setosa     | 0.98       | 0.02          | 0.0       \n",
      "Setosa     | Setosa     | 0.98       | 0.02          | 0.0       \n",
      "Virginica  | Virginica  | 0.0        | 0.18          | 0.82      \n",
      "Versicolor | Versicolor | 0.02       | 0.78          | 0.2       \n",
      "Setosa     | Setosa     | 0.97       | 0.03          | 0.0       \n",
      "Setosa     | Setosa     | 0.99       | 0.01          | 0.0       \n",
      "Setosa     | Setosa     | 1.0        | 0.0           | 0.0       \n",
      "Virginica  | Virginica  | 0.0        | 0.18          | 0.81      \n",
      "Versicolor | Versicolor | 0.06       | 0.7           | 0.23      \n",
      "Versicolor | Versicolor | 0.01       | 0.72          | 0.27      \n",
      "Setosa     | Setosa     | 0.99       | 0.01          | 0.0       \n",
      "Setosa     | Setosa     | 0.98       | 0.02          | 0.0       \n",
      "-----------------------------------------------------------------\n",
      "\n"
     ]
    }
   ],
   "source": [
    "#Prediction\n",
    "res = \"{:<10} | {:<10} | {:<10} | {:<13} | {:<10}\" . format(\"y_test\",\"y_pred\",\"Setosa\", \"Versicolor\", \"Virginica \\n\")\n",
    "res += \"-\"*65+\"\\n\"\n",
    "res += \"\\n\".join(\"{:<10} | {:<10} | {:<10} | {:<13} | {:<10}\".format(x, y, a, b, c) for x, y, a, b, c in zip(y_test, y_pre, y_prob[:,0], y_prob[:,1], y_prob[:,2]))\n",
    "res += \"\\n\"+\"-\"*65+\"\\n\"\n",
    "print(res)"
   ]
  },
  {
   "cell_type": "code",
   "execution_count": 36,
   "id": "04bd9ed7",
   "metadata": {},
   "outputs": [
    {
     "name": "stdout",
     "output_type": "stream",
     "text": [
      "Accuracy Score - 1.000 \n"
     ]
    }
   ],
   "source": [
    "from sklearn.metrics import accuracy_score\n",
    "print(\"Accuracy Score - %.3f \" %accuracy_score(y_test,y_pre))"
   ]
  },
  {
   "cell_type": "code",
   "execution_count": 37,
   "id": "cce579aa",
   "metadata": {},
   "outputs": [
    {
     "name": "stdout",
     "output_type": "stream",
     "text": [
      "[[19  0  0]\n",
      " [ 0 13  0]\n",
      " [ 0  0 13]]\n"
     ]
    }
   ],
   "source": [
    "#Confusion Matrix\n",
    "from sklearn.metrics import confusion_matrix\n",
    "con = confusion_matrix(y_test,y_pre)\n",
    "print(con)"
   ]
  },
  {
   "cell_type": "code",
   "execution_count": 38,
   "id": "248a6384",
   "metadata": {},
   "outputs": [
    {
     "data": {
      "image/png": "[encoded data removed]",
      "text/plain": [
       "<Figure size 432x288 with 2 Axes>"
      ]
     },
     "metadata": {
      "needs_background": "light"
     },
     "output_type": "display_data"
    }
   ],
   "source": [
    "#Plot them to understand better\n",
    "ax = plt.axes()\n",
    "sns.heatmap(con,annot=True,fmt='d',cmap=\"autumn\",axes=ax)\n",
    "plt.show()"
   ]
  },
  {
   "cell_type": "code",
   "execution_count": null,
   "id": "37a7e770",
   "metadata": {},
   "outputs": [],
   "source": []
  }
 ],
 "metadata": {
  "kernelspec": {
   "display_name": "Python 3 (ipykernel)",
   "language": "python",
   "name": "python3"
  },
  "language_info": {
   "codemirror_mode": {
    "name": "ipython",
    "version": 3
   },
   "file_extension": ".py",
   "mimetype": "text/x-python",
   "name": "python",
   "nbconvert_exporter": "python",
   "pygments_lexer": "ipython3",
   "version": "3.9.7"
  }
 },
 "nbformat": 4,
 "nbformat_minor": 5
}
